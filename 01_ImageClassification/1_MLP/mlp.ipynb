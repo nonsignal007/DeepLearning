{
 "cells": [
  {
   "cell_type": "markdown",
   "metadata": {},
   "source": [
    "## Multilayer Perceptron"
   ]
  },
  {
   "cell_type": "markdown",
   "metadata": {
    "vscode": {
     "languageId": "plaintext"
    }
   },
   "source": [
    "### 개요\n",
    "\n",
    "- Multilayer Perceptron 에 대해서 공부한 스크립트이다.\n",
    "- 이 파일을 사용하여 폴더 및 python 파일을 생성하여 refectoring 할 예정이다.\n",
    "- PyTorch 와 Torchvision 을 사용하여 image classification 을 위한 machine learning models을 구축할 것이다.\n",
    "- 가장 기본적인 neural network 인 multilayer perceptron(MLP) 를 이용하여 MNIST 데이터 셋을 분류할 예정이다."
   ]
  },
  {
   "cell_type": "markdown",
   "metadata": {},
   "source": [
    "## Data Processing\n",
    "\n",
    "### MNIST dataset\n",
    "\n",
    "- 28x28 크기의 black and white 이미지로 0에서 9까지의 손글씨가 적혀있다."
   ]
  },
  {
   "cell_type": "code",
   "execution_count": 1,
   "metadata": {},
   "outputs": [],
   "source": [
    "\n",
    "import torch ## 일반적인 PyTorch functionality 사용\n",
    "\n",
    "## neural network based functions 사용\n",
    "import torch.nn as nn\n",
    "import torch.nn.functional as F\n",
    "\n",
    "## 파라미터를 업데이트 해주는 optimizer 를 사용\n",
    "import torch.optim as optim\n",
    "\n",
    "## data handling을 위한 library\n",
    "import torch.utils.data as data\n",
    "\n",
    "## data augmentation 을 위한 library\n",
    "import torchvision.transforms as transforms\n",
    "\n",
    "## MNIST dataset을 사용하기 위한 library\n",
    "import torchvision.datasets as datasets\n",
    "\n",
    "## confusion matrix 를 보여주기 위한 library\n",
    "from sklearn import metrics\n",
    "\n",
    "## 차원 축소를 위한 library\n",
    "from sklearn import decomposition\n",
    "from sklearn import manifold\n",
    "\n",
    "## 시각화를 위한 library\n",
    "from tqdm.notebook import tqdm\n",
    "import matplotlib.pyplot as plt\n",
    "import numpy as np\n",
    "\n",
    "import copy\n",
    "import random\n",
    "import time\n",
    "import os\n"
   ]
  },
  {
   "cell_type": "code",
   "execution_count": 2,
   "metadata": {},
   "outputs": [],
   "source": [
    "## Random Seed 고정\n",
    "\n",
    "SEED = 42\n",
    "\n",
    "random.seed(SEED)\n",
    "np.random.seed(SEED)\n",
    "torch.manual_seed(SEED)\n",
    "torch.cuda.manual_seed(SEED)\n",
    "torch.backends.cudnn.deterministic = True\n"
   ]
  },
  {
   "cell_type": "code",
   "execution_count": 3,
   "metadata": {},
   "outputs": [],
   "source": [
    "## MNIST data load\n",
    "\n",
    "ROOT = './data'\n",
    "\n",
    "# folder check\n",
    "if not os.path.exists(ROOT):\n",
    "    os.mkdir(ROOT)\n",
    "\n",
    "train_data = datasets.MNIST(root=ROOT,\n",
    "                            train=True,\n",
    "                            download=True)"
   ]
  },
  {
   "cell_type": "markdown",
   "metadata": {},
   "source": [
    "### Data Normalization"
   ]
  },
  {
   "cell_type": "markdown",
   "metadata": {},
   "source": [
    "- 데이터 정규화를 하는 이유는 모델의 학습을 빠르게 하고, local minimal를 피하고, 학습을 일반화 시키기 위함이다.\n",
    "- 정규화 절차\n",
    "    - 평균과 표준편차를 계산한다. \n",
    "    > 주의할 점은 train 데이터에만 해야하고 test 데이터에 계산하면 안된다. </br>\n",
    "    그 이유는 우리는 학습시키는 동안 test 에 대한 어떠한 정보도 제공해서는 안되기 때문이다.\n",
    "    - `.data.` 를 이용하여 이미지 데이터의 값을 불러온뒤, 평균과 표준편차를 계산한다.\n",
    "    - 0~1 사이로 scaling 하기 위해 255로 나눈다.\n",
    "    - 이후 `transforms.Normalize` 함수를 이용하여 정규화를 시켜준다.\n",
    "    "
   ]
  },
  {
   "cell_type": "code",
   "execution_count": 4,
   "metadata": {},
   "outputs": [
    {
     "name": "stdout",
     "output_type": "stream",
     "text": [
      "mean : 0.13066047430038452\n",
      "sd : 0.30810779333114624\n"
     ]
    }
   ],
   "source": [
    "mean = train_data.data.float().mean() / 255\n",
    "sd = train_data.data.float().std() / 255\n",
    "\n",
    "print(f'mean : {mean}')\n",
    "print(f'sd : {sd}')"
   ]
  },
  {
   "cell_type": "markdown",
   "metadata": {},
   "source": [
    "### Data Augmentation \n",
    "\n",
    "- `RandomRotation` : 이미지를 랜덤하게 회전 `(-x, +x)` 도로 회전, `fill=(0,)`은 회전시 빈 공간을 0으로 채움\n",
    "- `RandomCrop` : 이미지를 랜덤하게 crop, `padding`은 이미지의 padding을 의미\n",
    "- `ToTensor` : PIL 이미지를 PyTorch tensor 로 반환 , PIL 이미지에 대해 반드시 해줘야 한다.\n",
    "- `Normalize` : 주어진 평균과 표준편차로 normalize , 반드시 ToTensor 이후에 해줘야 한다.\n"
   ]
  },
  {
   "cell_type": "code",
   "execution_count": 5,
   "metadata": {},
   "outputs": [],
   "source": [
    "train_transform = transforms.Compose([\n",
    "    transforms.RandomRotation(5, fill=(0,)),\n",
    "    transforms.RandomCrop(28, padding = 2),\n",
    "    transforms.ToTensor(),\n",
    "    transforms.Normalize(mean=[mean], std=[sd])\n",
    "])\n",
    "\n",
    "## Test 데이터는 Augmentation 을 하지 않고, 대신 Tensor로만 변환하고 Normalize만 해준다.\n",
    "test_transform = transforms.Compose([\n",
    "    transforms.ToTensor(),\n",
    "    transforms.Normalize(mean=[mean], std=[sd])\n",
    "])"
   ]
  },
  {
   "cell_type": "code",
   "execution_count": 6,
   "metadata": {},
   "outputs": [],
   "source": [
    "train_data = datasets.MNIST(root=ROOT,\n",
    "                           train=True,\n",
    "                           download=True,\n",
    "                           transform=train_transform)\n",
    "\n",
    "test_data = datasets.MNIST(root=ROOT,\n",
    "                           train=False,\n",
    "                           download=True,\n",
    "                           transform=test_transform)"
   ]
  },
  {
   "cell_type": "code",
   "execution_count": 7,
   "metadata": {},
   "outputs": [
    {
     "name": "stdout",
     "output_type": "stream",
     "text": [
      "Train data : 60000\n",
      "Test data : 10000\n"
     ]
    }
   ],
   "source": [
    "print(f'Train data : {len(train_data)}')\n",
    "print(f'Test data : {len(test_data)}')"
   ]
  },
  {
   "cell_type": "code",
   "execution_count": 8,
   "metadata": {},
   "outputs": [],
   "source": [
    "## Data Visualization\n",
    "\n",
    "def plot_images(images):\n",
    "    n_images = len(images)\n",
    "\n",
    "    rows = int(np.sqrt(n_images))\n",
    "    cols = int(np.sqrt(n_images))\n",
    "\n",
    "    fig = plt.figure()\n",
    "    for i in range(rows*cols):\n",
    "        ax = fig.add_subplot(rows, cols, i+1)\n",
    "        ax.imshow(images[i].view(28, 28).cpu().numpy(), cmap='bone')\n",
    "        ax.axis('off')"
   ]
  },
  {
   "cell_type": "code",
   "execution_count": 9,
   "metadata": {},
   "outputs": [
    {
     "data": {
      "image/png": "[encoded data removed]",
      "text/plain": [
       "<Figure size 640x480 with 25 Axes>"
      ]
     },
     "metadata": {},
     "output_type": "display_data"
    }
   ],
   "source": [
    "N_IMAGES = 25\n",
    "\n",
    "images = [image for image, label in [train_data[i] for i in range(N_IMAGES)]]\n",
    "\n",
    "plot_images(images)"
   ]
  },
  {
   "cell_type": "code",
   "execution_count": 10,
   "metadata": {},
   "outputs": [
    {
     "name": "stdout",
     "output_type": "stream",
     "text": [
      "Number of training examples : 54000\n",
      "Number of validation examples : 6000\n",
      "Number of testing examples : 10000\n"
     ]
    }
   ],
   "source": [
    "## Create Validation Set\n",
    "\n",
    "VALID_RATIO = 0.9\n",
    "\n",
    "n_train_examples = int(len(train_data) * VALID_RATIO)\n",
    "n_valid_examples = len(train_data) - n_train_examples\n",
    "\n",
    "train_data, valid_data = data.random_split(train_data, [n_train_examples, n_valid_examples])\n",
    "\n",
    "print(f'Number of training examples : {len(train_data)}')\n",
    "print(f'Number of validation examples : {len(valid_data)}')\n",
    "print(f'Number of testing examples : {len(test_data)}')"
   ]
  },
  {
   "cell_type": "markdown",
   "metadata": {},
   "source": [
    "### Validation dataset transforms\n",
    "\n",
    "- Validation dataset 의 transforms 은 test set 과 동일하다. 이때 이를 적용할 때 valid_data 에 바로 적용하면 train_dataset의 transforms 까지 변경되므로 이를 방지하기 위해서 deepcopy 를 하여 분리한다.\n",
    "\n"
   ]
  },
  {
   "cell_type": "code",
   "execution_count": 11,
   "metadata": {},
   "outputs": [],
   "source": [
    "valid_data = copy.deepcopy(valid_data)\n",
    "valid_data.dataset.transform = test_transform"
   ]
  },
  {
   "cell_type": "code",
   "execution_count": 12,
   "metadata": {},
   "outputs": [],
   "source": [
    "## Data Loaders 생성\n",
    "\n",
    "BATCH_SIZE = 64\n",
    "\n",
    "train_iterator = data.DataLoader(train_data,\n",
    "                                 shuffle=True,\n",
    "                                 batch_size = BATCH_SIZE)\n",
    "\n",
    "valid_iterator = data.DataLoader(valid_data,\n",
    "                                 batch_size = BATCH_SIZE)\n",
    "\n",
    "test_iterator = data.DataLoader(test_data,\n",
    "                                 batch_size = BATCH_SIZE)\n"
   ]
  },
  {
   "cell_type": "markdown",
   "metadata": {},
   "source": [
    "## Define Model\n",
    "\n",
    "- 2개의 hidden layer 를 가지고 있는 MLP 모델을 만들도록 하겠다.\n",
    "\n",
    "### 모델 구조\n",
    "\n",
    "1. input layer : 1x28x28 - 784 element vector\n",
    "2. hidden layer 1 : 784 -> 250\n",
    "3. hidden layer 2 : 250 -> 100\n",
    "4. output layer : 100 -> 10 dimensional vector\n",
    "\n",
    "- 각각의 layer 들은 fully connected layer 또는 affine layer 로 구성되어 있다. \n",
    "- 첫번째 layer 를 통과하여 이미지가 flattend 되고, 두번째 layer 를 통과하면서 input들의 weighted sum 이 계산된다.\n",
    "이후 activation function 인 ReLU 를 통과하개 된다.\n",
    "- 세번째 layer 또한 weighted sum 을 계산하고, ReLU 를 통과하게 된다.\n",
    "- 마지막 layers 는 10개의 class 에 대한 logit 을 출력하게 된다.\n",
    "\n",
    "### Activation Function\n",
    "\n",
    "- hidden layer 들은 ReLU activation function 을 사용하였다.\n",
    "- output layer 는 logit 을 출력하기 때문에 activation function 을 사용하지 않았다.\n",
    "- ReLU 는 다음과 같은 수식으로 정의된다.\n",
    "\n",
    "$$\n",
    "\\text{ReLU}(x) = \\max(0, x)\n",
    "$$\n",
    "- ReLU 는 유명한 non-linear function 이며, vanishing gradient problem 을 해결해준다.\n",
    "\n",
    "> Activation FUnction 은 입력이나 출력에 사용하지 않는다. </br>\n",
    "이는 PyTorch 출력에 적용할 활성화 함수를 신경망의 **손실** 을 계산하는 함수와 결합한다. 이는 수치적 안정성을 위해 수행된다.\n",
    "\n",
    "### hidden layer 의 차원 선택\n",
    "- 일반적으로 신경망을 구성하는 아이디어는 신경망이 데이터에서 feature 를 추출한다는 것이다. </br>\n",
    "입력에 더 가까운 레이어는 일반적인 피처(선, 곡선, 모서리)를 추출하는 법을 배우고, 이후 레이어는 이전 레이어에서 추출한 피처를 결합하여 더 높은 수준의 피처(두 선의 교차로, 여러 곡선이 원을 만든다.)를 만든다.\n",
    "- 따라서 우리는 각 계층의 뉴런 수를 적절히 줄임으로써 신경망의 이러한  특징을 학습하도록 강제한다. 이런 방식으로 유용하고 일반적인 특징만 추출하여 정보를 압축하는 법을 배워야 한다.\n",
    "- 이는 여러 계층과, 어떤 종류의 정보 압축(후속 계층의 뉴런 수 감소)이 있는 신경망이 필요하다."
   ]
  },
  {
   "cell_type": "code",
   "execution_count": 13,
   "metadata": {},
   "outputs": [],
   "source": [
    "class MLP(nn.Module):\n",
    "    def __init__(self, input_dim, output_dim):\n",
    "        super().__init__()\n",
    "\n",
    "        self.input_fc = nn.Linear(input_dim, 250)\n",
    "        self.hidden_fc = nn.Linear(250, 100)\n",
    "        self.output_fc = nn.Linear(100,output_dim)\n",
    "\n",
    "    def forward(self, x):\n",
    "        x = x.view(x.shape[0], -1)\n",
    "        h_1 = F.relu(self.input_fc(x))\n",
    "        h_2 = F.relu(self.hidden_fc(h_1))\n",
    "        y_pred = self.output_fc(h_2)\n",
    "\n",
    "        return y_pred, h_2\n",
    "    \n",
    "INPUT_DIM = 28 * 28\n",
    "OUTPUT_DIM = 10\n",
    "\n",
    "model = MLP(INPUT_DIM, OUTPUT_DIM)"
   ]
  },
  {
   "cell_type": "markdown",
   "metadata": {},
   "source": [
    "- 여기서 y_pred, h_2 두가지를 return 한 이유는 추후에 h_2 층과 최종 output 층을 비교해보기 위해서 이다.\n",
    "- 원래는 y_pred만 return 해도 무방하다.\n",
    "\n",
    "- return 은 무조건 최종적인걸 해줘야 하나 그 이후에 다른걸 추가해도 상관은 없는듯하다"
   ]
  },
  {
   "cell_type": "markdown",
   "metadata": {},
   "source": [
    "- 파라미터 수\n",
    "\n",
    "$$784 \\cdot 250 + 250 + 250 \\cdot 100 + 100 + 100 \\cdot 10 + 10 = 222,360 $$"
   ]
  },
  {
   "cell_type": "code",
   "execution_count": 14,
   "metadata": {},
   "outputs": [
    {
     "name": "stdout",
     "output_type": "stream",
     "text": [
      "The model has 222,360 trainable parameters\n"
     ]
    }
   ],
   "source": [
    "def count_parameters(model):\n",
    "    return sum(p.numel() for p in model.parameters() if p.requires_grad)\n",
    "\n",
    "print(f'The model has {count_parameters(model):,} trainable parameters')"
   ]
  },
  {
   "cell_type": "markdown",
   "metadata": {},
   "source": [
    "## Training Model\n",
    "\n",
    "- 학습 과정\n",
    "    - data 의 loss 를 계산하고 이를 통해 gradient 를 계산한 뒤 optimizer 를 통해 parameter 를 업데이트 한다.\n",
    "\n",
    "- 데이터를 batch 단위로 model 에 통과시킨다.\n",
    "- 실제 데이터와 예측한 데이터의 loss 를 계산한다.\n",
    "- loss 를 통해 gradient 를 계산한다.\n",
    "- optimizer 를 통해 parameter 를 업데이트 한다."
   ]
  },
  {
   "cell_type": "code",
   "execution_count": 15,
   "metadata": {},
   "outputs": [],
   "source": [
    "optimizer = optim.Adam(model.parameters())"
   ]
  },
  {
   "cell_type": "markdown",
   "metadata": {},
   "source": [
    "#### define loss function(crierion)\n",
    "\n",
    "- `CrossEntropyLoss` : multi-class classification 문제에서 사용하는 loss function\n",
    "    - softmax activation function을 적용한 후, cross entropy loss를 계산한다.\n",
    "\n",
    "Then, we define a *criterion*, PyTorch's name for a loss/cost/error function. This function will take in your model's predictions with the actual labels and then compute the loss/cost/error of your model with its current parameters.\n",
    "\n",
    "`CrossEntropyLoss` both computes the *softmax* activation function on the supplied predictions as well as the actual loss via *negative log likelihood*. \n",
    "\n",
    "Briefly, the softmax function is:\n",
    "\n",
    "$$\\text{softmax }(\\mathbf{x}) = \\frac{e^{x_i}}{\\sum_j e^{x_j}}$$ \n",
    "\n",
    "This turns out 10 dimensional output, where each element is an unbounded real number, into a probability distribution over 10 elements. That is, all values are between 0 and 1, and together they all sum to 1. \n",
    "\n",
    "Why do we turn things into a probability distribution? So we can use negative log likelihood for our loss function, as it expects probabilities. PyTorch calculates negative log likelihood for a single example via:\n",
    "\n",
    "$$\\text{negative log likelihood }(\\mathbf{\\hat{y}}, y) = -\\log \\big( \\text{softmax}(\\mathbf{\\hat{y}})[y] \\big)$$\n",
    "\n",
    "$\\mathbf{\\hat{y}}$ is the $\\mathbb{R}^{10}$ output, from our neural network, whereas $y$ is the label, an integer representing the class. The loss is the negative log of the class index of the softmax. For example:\n",
    "\n",
    "$$\\mathbf{\\hat{y}} = [5,1,1,1,1,1,1,1,1,1]$$\n",
    "\n",
    "$$\\text{softmax }(\\mathbf{\\hat{y}}) = [0.8585, 0.0157, 0.0157, 0.0157, 0.0157, 0.0157, 0.0157, 0.0157, 0.0157, 0.0157]$$\n",
    "\n",
    "If the label was class zero, the loss would be:\n",
    "\n",
    "$$\\text{negative log likelihood }(\\mathbf{\\hat{y}}, 0) = - \\log(0.8585) = 0.153 \\dots$$\n",
    "\n",
    "If the label was class five, the loss would be:\n",
    "\n",
    "$$\\text{negative log likelihood }(\\mathbf{\\hat{y}}, 5) = - \\log(0.0157) = 4.154 \\dots$$\n",
    "\n",
    "So, intuitively, as your model's output corresponding to the correct class index increases, your loss decreases."
   ]
  },
  {
   "cell_type": "code",
   "execution_count": 16,
   "metadata": {},
   "outputs": [],
   "source": [
    "criterion = nn.CrossEntropyLoss()"
   ]
  },
  {
   "cell_type": "code",
   "execution_count": 17,
   "metadata": {},
   "outputs": [],
   "source": [
    "### device 정의\n",
    "\n",
    "device = torch.device('mps' if torch.backends.mps.is_available() else 'cpu')"
   ]
  },
  {
   "cell_type": "code",
   "execution_count": 18,
   "metadata": {},
   "outputs": [
    {
     "name": "stdout",
     "output_type": "stream",
     "text": [
      "mps\n"
     ]
    }
   ],
   "source": [
    "print(device)"
   ]
  },
  {
   "cell_type": "code",
   "execution_count": 19,
   "metadata": {},
   "outputs": [],
   "source": [
    "model = model.to(device)\n",
    "criterion = criterion.to(device)"
   ]
  },
  {
   "cell_type": "code",
   "execution_count": 20,
   "metadata": {},
   "outputs": [],
   "source": [
    "def calculate_accuracy(y_pred, y):\n",
    "    top_pred = y_pred.argmax(1, keepdim=True)\n",
    "    correct = top_pred.eq(y.view_as(top_pred)).sum()\n",
    "    acc = correct.float() / y.shape[0]\n",
    "    return acc"
   ]
  },
  {
   "cell_type": "code",
   "execution_count": 21,
   "metadata": {},
   "outputs": [],
   "source": [
    "def train(model, iterator, optimizer, criterion, device):\n",
    "    epoch_loss = 0\n",
    "    epoch_acc = 0\n",
    "\n",
    "    model.train()\n",
    "\n",
    "    for (x, y) in tqdm(iterator, desc='Training', leave=False):\n",
    "        x = x.to(device)\n",
    "        y = y.to(device)\n",
    "\n",
    "        optimizer.zero_grad()\n",
    "\n",
    "        y_pred, _ = model(x)\n",
    "\n",
    "        loss = criterion(y_pred, y)\n",
    "        \n",
    "        acc = calculate_accuracy(y_pred, y)\n",
    "\n",
    "        loss.backward()\n",
    "\n",
    "        optimizer.step()\n",
    "\n",
    "        epoch_loss += loss.item()\n",
    "        epoch_acc += acc.item()\n",
    "\n",
    "    return epoch_loss / len(iterator), epoch_acc / len(iterator)"
   ]
  },
  {
   "cell_type": "code",
   "execution_count": 25,
   "metadata": {},
   "outputs": [],
   "source": [
    "def evaluate(model, iterator, criterion, device):\n",
    "    epoch_loss = 0\n",
    "    epoch_acc = 0\n",
    "\n",
    "    model.eval()\n",
    "\n",
    "    with torch.no_grad():\n",
    "        for (x,y) in tqdm(iterator, desc = 'Evaluating', leave=False):\n",
    "            x = x.to(device)\n",
    "            y = y.to(device)\n",
    "\n",
    "            y_pred, _ = model(x)\n",
    "\n",
    "            loss = criterion(y_pred, y)\n",
    "\n",
    "            acc = calculate_accuracy(y_pred, y)\n",
    "\n",
    "            epoch_loss += loss.item()\n",
    "            epoch_acc += acc.item()\n",
    "\n",
    "    return epoch_loss / len(iterator), epoch_acc / len(iterator)\n",
    "\n"
   ]
  },
  {
   "cell_type": "code",
   "execution_count": 26,
   "metadata": {},
   "outputs": [],
   "source": [
    "def epoch_time(start_time, end_time):\n",
    "    elapsed_time = end_time - start_time\n",
    "    elapsed_mins = int(elapsed_time / 60)\n",
    "    elapsed_secs = int(elapsed_time - (elapsed_mins * 60))\n",
    "    return elapsed_mins, elapsed_secs"
   ]
  },
  {
   "cell_type": "code",
   "execution_count": 27,
   "metadata": {},
   "outputs": [
    {
     "data": {
      "application/vnd.jupyter.widget-view+json": {
       "model_id": "7d3284e22dc04b5abd30c2b5b2419e58",
       "version_major": 2,
       "version_minor": 0
      },
      "text/plain": [
       "Training:   0%|          | 0/844 [00:00<?, ?it/s]"
      ]
     },
     "metadata": {},
     "output_type": "display_data"
    },
    {
     "data": {
      "application/vnd.jupyter.widget-view+json": {
       "model_id": "a226b2b8a8cf4b009b045b37ec9124e9",
       "version_major": 2,
       "version_minor": 0
      },
      "text/plain": [
       "Evaluating:   0%|          | 0/94 [00:00<?, ?it/s]"
      ]
     },
     "metadata": {},
     "output_type": "display_data"
    },
    {
     "name": "stdout",
     "output_type": "stream",
     "text": [
      "Epoch: 01 | Epoch Time: 0m 8s\n",
      "\tTrain Loss: 0.172 | Train Acc: 94.72%\n",
      "\t Val. Loss: 0.114 |  Val. Acc: 96.22%\n"
     ]
    },
    {
     "data": {
      "application/vnd.jupyter.widget-view+json": {
       "model_id": "c38e25bb64a64d6ca14840345d1b115d",
       "version_major": 2,
       "version_minor": 0
      },
      "text/plain": [
       "Training:   0%|          | 0/844 [00:00<?, ?it/s]"
      ]
     },
     "metadata": {},
     "output_type": "display_data"
    },
    {
     "data": {
      "application/vnd.jupyter.widget-view+json": {
       "model_id": "bafc25980b754b16aaaaaabb9be95e81",
       "version_major": 2,
       "version_minor": 0
      },
      "text/plain": [
       "Evaluating:   0%|          | 0/94 [00:00<?, ?it/s]"
      ]
     },
     "metadata": {},
     "output_type": "display_data"
    },
    {
     "name": "stdout",
     "output_type": "stream",
     "text": [
      "Epoch: 02 | Epoch Time: 0m 8s\n",
      "\tTrain Loss: 0.135 | Train Acc: 95.77%\n",
      "\t Val. Loss: 0.093 |  Val. Acc: 97.05%\n"
     ]
    },
    {
     "data": {
      "application/vnd.jupyter.widget-view+json": {
       "model_id": "2b31c8fd3dc3411b9c6ba1ecb56fe2c7",
       "version_major": 2,
       "version_minor": 0
      },
      "text/plain": [
       "Training:   0%|          | 0/844 [00:00<?, ?it/s]"
      ]
     },
     "metadata": {},
     "output_type": "display_data"
    },
    {
     "data": {
      "application/vnd.jupyter.widget-view+json": {
       "model_id": "abfbca5447db4ad2b566be8909ca653a",
       "version_major": 2,
       "version_minor": 0
      },
      "text/plain": [
       "Evaluating:   0%|          | 0/94 [00:00<?, ?it/s]"
      ]
     },
     "metadata": {},
     "output_type": "display_data"
    },
    {
     "name": "stdout",
     "output_type": "stream",
     "text": [
      "Epoch: 03 | Epoch Time: 0m 8s\n",
      "\tTrain Loss: 0.119 | Train Acc: 96.35%\n",
      "\t Val. Loss: 0.097 |  Val. Acc: 97.22%\n"
     ]
    },
    {
     "data": {
      "application/vnd.jupyter.widget-view+json": {
       "model_id": "65e836ba4b1142cab77a510f8b012609",
       "version_major": 2,
       "version_minor": 0
      },
      "text/plain": [
       "Training:   0%|          | 0/844 [00:00<?, ?it/s]"
      ]
     },
     "metadata": {},
     "output_type": "display_data"
    },
    {
     "data": {
      "application/vnd.jupyter.widget-view+json": {
       "model_id": "4d42f2da935546558dc02a27dfb77e61",
       "version_major": 2,
       "version_minor": 0
      },
      "text/plain": [
       "Evaluating:   0%|          | 0/94 [00:00<?, ?it/s]"
      ]
     },
     "metadata": {},
     "output_type": "display_data"
    },
    {
     "name": "stdout",
     "output_type": "stream",
     "text": [
      "Epoch: 04 | Epoch Time: 0m 7s\n",
      "\tTrain Loss: 0.107 | Train Acc: 96.68%\n",
      "\t Val. Loss: 0.085 |  Val. Acc: 97.50%\n"
     ]
    },
    {
     "data": {
      "application/vnd.jupyter.widget-view+json": {
       "model_id": "16136ccb32c343699a49e385402564b7",
       "version_major": 2,
       "version_minor": 0
      },
      "text/plain": [
       "Training:   0%|          | 0/844 [00:00<?, ?it/s]"
      ]
     },
     "metadata": {},
     "output_type": "display_data"
    },
    {
     "data": {
      "application/vnd.jupyter.widget-view+json": {
       "model_id": "666259b3e66d4373864367c130ab9c6c",
       "version_major": 2,
       "version_minor": 0
      },
      "text/plain": [
       "Evaluating:   0%|          | 0/94 [00:00<?, ?it/s]"
      ]
     },
     "metadata": {},
     "output_type": "display_data"
    },
    {
     "name": "stdout",
     "output_type": "stream",
     "text": [
      "Epoch: 05 | Epoch Time: 0m 8s\n",
      "\tTrain Loss: 0.100 | Train Acc: 96.89%\n",
      "\t Val. Loss: 0.084 |  Val. Acc: 97.52%\n"
     ]
    },
    {
     "data": {
      "application/vnd.jupyter.widget-view+json": {
       "model_id": "bb6122f324984b1ea5cc5608d5a997c4",
       "version_major": 2,
       "version_minor": 0
      },
      "text/plain": [
       "Training:   0%|          | 0/844 [00:00<?, ?it/s]"
      ]
     },
     "metadata": {},
     "output_type": "display_data"
    },
    {
     "data": {
      "application/vnd.jupyter.widget-view+json": {
       "model_id": "648076f2d8774fc2afdd478ba4ef9ab4",
       "version_major": 2,
       "version_minor": 0
      },
      "text/plain": [
       "Evaluating:   0%|          | 0/94 [00:00<?, ?it/s]"
      ]
     },
     "metadata": {},
     "output_type": "display_data"
    },
    {
     "name": "stdout",
     "output_type": "stream",
     "text": [
      "Epoch: 06 | Epoch Time: 0m 7s\n",
      "\tTrain Loss: 0.092 | Train Acc: 97.08%\n",
      "\t Val. Loss: 0.076 |  Val. Acc: 97.73%\n"
     ]
    },
    {
     "data": {
      "application/vnd.jupyter.widget-view+json": {
       "model_id": "a29b7551d2b541a7a7ebafe90d0013d8",
       "version_major": 2,
       "version_minor": 0
      },
      "text/plain": [
       "Training:   0%|          | 0/844 [00:00<?, ?it/s]"
      ]
     },
     "metadata": {},
     "output_type": "display_data"
    },
    {
     "data": {
      "application/vnd.jupyter.widget-view+json": {
       "model_id": "9457f0cedf53433ab7893c011f3d1de5",
       "version_major": 2,
       "version_minor": 0
      },
      "text/plain": [
       "Evaluating:   0%|          | 0/94 [00:00<?, ?it/s]"
      ]
     },
     "metadata": {},
     "output_type": "display_data"
    },
    {
     "name": "stdout",
     "output_type": "stream",
     "text": [
      "Epoch: 07 | Epoch Time: 0m 7s\n",
      "\tTrain Loss: 0.088 | Train Acc: 97.18%\n",
      "\t Val. Loss: 0.069 |  Val. Acc: 97.86%\n"
     ]
    },
    {
     "data": {
      "application/vnd.jupyter.widget-view+json": {
       "model_id": "53b8d5b8d5b1427f8b6ffafa9aa0025e",
       "version_major": 2,
       "version_minor": 0
      },
      "text/plain": [
       "Training:   0%|          | 0/844 [00:00<?, ?it/s]"
      ]
     },
     "metadata": {},
     "output_type": "display_data"
    },
    {
     "data": {
      "application/vnd.jupyter.widget-view+json": {
       "model_id": "ed72c5cd7ddc427b82e68d087b90f571",
       "version_major": 2,
       "version_minor": 0
      },
      "text/plain": [
       "Evaluating:   0%|          | 0/94 [00:00<?, ?it/s]"
      ]
     },
     "metadata": {},
     "output_type": "display_data"
    },
    {
     "name": "stdout",
     "output_type": "stream",
     "text": [
      "Epoch: 08 | Epoch Time: 0m 7s\n",
      "\tTrain Loss: 0.083 | Train Acc: 97.49%\n",
      "\t Val. Loss: 0.066 |  Val. Acc: 98.02%\n"
     ]
    },
    {
     "data": {
      "application/vnd.jupyter.widget-view+json": {
       "model_id": "5462e7383c0e41bc9d569f52a98faeb0",
       "version_major": 2,
       "version_minor": 0
      },
      "text/plain": [
       "Training:   0%|          | 0/844 [00:00<?, ?it/s]"
      ]
     },
     "metadata": {},
     "output_type": "display_data"
    },
    {
     "data": {
      "application/vnd.jupyter.widget-view+json": {
       "model_id": "f3d19d6b52724440a0a77e55b13b45ba",
       "version_major": 2,
       "version_minor": 0
      },
      "text/plain": [
       "Evaluating:   0%|          | 0/94 [00:00<?, ?it/s]"
      ]
     },
     "metadata": {},
     "output_type": "display_data"
    },
    {
     "name": "stdout",
     "output_type": "stream",
     "text": [
      "Epoch: 09 | Epoch Time: 0m 7s\n",
      "\tTrain Loss: 0.080 | Train Acc: 97.52%\n",
      "\t Val. Loss: 0.070 |  Val. Acc: 97.76%\n"
     ]
    },
    {
     "data": {
      "application/vnd.jupyter.widget-view+json": {
       "model_id": "c67092582c1f4fd19f106c5ac9bc88b7",
       "version_major": 2,
       "version_minor": 0
      },
      "text/plain": [
       "Training:   0%|          | 0/844 [00:00<?, ?it/s]"
      ]
     },
     "metadata": {},
     "output_type": "display_data"
    },
    {
     "data": {
      "application/vnd.jupyter.widget-view+json": {
       "model_id": "35f8ed2e5ce944febcec21aca7353c44",
       "version_major": 2,
       "version_minor": 0
      },
      "text/plain": [
       "Evaluating:   0%|          | 0/94 [00:00<?, ?it/s]"
      ]
     },
     "metadata": {},
     "output_type": "display_data"
    },
    {
     "name": "stdout",
     "output_type": "stream",
     "text": [
      "Epoch: 10 | Epoch Time: 0m 7s\n",
      "\tTrain Loss: 0.078 | Train Acc: 97.57%\n",
      "\t Val. Loss: 0.069 |  Val. Acc: 97.77%\n"
     ]
    }
   ],
   "source": [
    "EPOCHS = 10\n",
    "\n",
    "best_valid_loss = float('inf')\n",
    "\n",
    "for epoch in range(EPOCHS):\n",
    "    start_time = time.monotonic()\n",
    "    \n",
    "    train_loss, train_acc = train(model, train_iterator, optimizer, criterion, device)\n",
    "    valid_loss, valid_acc = evaluate(model, valid_iterator, criterion, device)\n",
    "\n",
    "    if valid_loss < best_valid_loss:\n",
    "        best_valid_loss = valid_loss\n",
    "        torch.save(model.state_dict(), 'mlp-model.pt')\n",
    "    \n",
    "    end_time = time.monotonic()\n",
    "\n",
    "    epoch_mins, epoch_secs = epoch_time(start_time, end_time)\n",
    "\n",
    "    print(f'Epoch: {epoch+1:02} | Epoch Time: {epoch_mins}m {epoch_secs}s')\n",
    "    print(f'\\tTrain Loss: {train_loss:.3f} | Train Acc: {train_acc*100:.2f}%')\n",
    "    print(f'\\t Val. Loss: {valid_loss:.3f} |  Val. Acc: {valid_acc*100:.2f}%')\n",
    "    "
   ]
  },
  {
   "cell_type": "code",
   "execution_count": 28,
   "metadata": {},
   "outputs": [
    {
     "name": "stderr",
     "output_type": "stream",
     "text": [
      "/var/folders/y7/gqrr888s3gj219stgv80ty2h0000gn/T/ipykernel_79020/3279647154.py:1: FutureWarning: You are using `torch.load` with `weights_only=False` (the current default value), which uses the default pickle module implicitly. It is possible to construct malicious pickle data which will execute arbitrary code during unpickling (See https://github.com/pytorch/pytorch/blob/main/SECURITY.md#untrusted-models for more details). In a future release, the default value for `weights_only` will be flipped to `True`. This limits the functions that could be executed during unpickling. Arbitrary objects will no longer be allowed to be loaded via this mode unless they are explicitly allowlisted by the user via `torch.serialization.add_safe_globals`. We recommend you start setting `weights_only=True` for any use case where you don't have full control of the loaded file. Please open an issue on GitHub for any issues related to this experimental feature.\n",
      "  model.load_state_dict(torch.load('./mlp-model.pt'))\n"
     ]
    },
    {
     "data": {
      "application/vnd.jupyter.widget-view+json": {
       "model_id": "793132a3d7444346adbec0a1432ab21c",
       "version_major": 2,
       "version_minor": 0
      },
      "text/plain": [
       "Evaluating:   0%|          | 0/157 [00:00<?, ?it/s]"
      ]
     },
     "metadata": {},
     "output_type": "display_data"
    },
    {
     "name": "stdout",
     "output_type": "stream",
     "text": [
      "Test Loss : 0.059 | Test Acc : 98.06%\n"
     ]
    }
   ],
   "source": [
    "model.load_state_dict(torch.load('./mlp-model.pt'))\n",
    "\n",
    "test_loss , test_acc = evaluate(model, test_iterator, criterion, device)\n",
    "\n",
    "print(f'Test Loss : {test_loss:.3f} | Test Acc : {test_acc*100:.2f}%')"
   ]
  },
  {
   "cell_type": "code",
   "execution_count": null,
   "metadata": {},
   "outputs": [],
   "source": []
  },
  {
   "cell_type": "code",
   "execution_count": 28,
   "metadata": {},
   "outputs": [
    {
     "name": "stdout",
     "output_type": "stream",
     "text": [
      "Overwriting config.yml\n"
     ]
    }
   ],
   "source": [
    "%%writefile config.yml\n",
    "\n",
    "SEED: 42\n",
    "ROOT: './data'\n",
    "\n",
    "VAL_RATIO: 0.1\n",
    "BATCH_SIZE: 64\n",
    "\n",
    "INPUT_DIM : 756\n",
    "OUTPUT_DIM : 10\n",
    "\n",
    "EPOCHS: 10"
   ]
  },
  {
   "cell_type": "code",
   "execution_count": 66,
   "metadata": {},
   "outputs": [
    {
     "name": "stdout",
     "output_type": "stream",
     "text": [
      "Overwriting data_loader.py\n"
     ]
    }
   ],
   "source": [
    "%%writefile data_loader.py\n",
    "\n",
    "import torch\n",
    "import torch.utils.data as data\n",
    "import torchvision.transforms as transforms\n",
    "import torchvision.datasets as datasets\n",
    "import numpy as np\n",
    "import copy\n",
    "import random\n",
    "import os\n",
    "        \n",
    "class DataLoad:\n",
    "    def __init__(self, ROOT, SEED, BATCH_SIZE, VAL_RATIO):\n",
    "        self.ROOT = ROOT\n",
    "        if not os.path.exists(ROOT):\n",
    "            os.mkdir(ROOT)\n",
    "        \n",
    "        self.SEED = SEED\n",
    "        self.BATCH_SIZE = BATCH_SIZE\n",
    "        self.VAL_RATIO = VAL_RATIO\n",
    "        self.dataload = self.load_data(self.ROOT,self.SEED, self.BATCH_SIZE, self.VAL_RATIO)\n",
    "\n",
    "\n",
    "    def set_seed(self, SEED):    \n",
    "        random.seed(SEED)\n",
    "        np.random.seed(SEED)\n",
    "        torch.manual_seed(SEED)\n",
    "        torch.cuda.manual_seed(SEED)\n",
    "        torch.backends.cudnn.deterministic = True\n",
    "\n",
    "    def get_mean_std(self, ROOT):\n",
    "        # Data Normalization\n",
    "        # MNIST data load from local files\n",
    "        temp_train_data = datasets.MNIST(root=ROOT,\n",
    "                                    train=True,\n",
    "                                    download=True,\n",
    "                                    transform=transforms.ToTensor())\n",
    "\n",
    "        MEAN = temp_train_data.data.float().mean() / 255\n",
    "        STD = temp_train_data.data.float().std() / 255\n",
    "        return MEAN, STD\n",
    "\n",
    "    def load_data(self, ROOT, SEED, BATCH_SIZE, VAL_RATIO):\n",
    "        self.set_seed(SEED)\n",
    "        MEAN, STD = self.get_mean_std(ROOT)\n",
    "            \n",
    "        # Augmentation 정의\n",
    "        train_transforms = transforms.Compose([\n",
    "            transforms.RandomRotation(5, fill=(0,)),\n",
    "            transforms.RandomCrop(28, padding=2),\n",
    "            transforms.ToTensor(),\n",
    "            transforms.Normalize(mean=[MEAN], std=[STD])\n",
    "        ])\n",
    "\n",
    "        test_transforms = transforms.Compose([\n",
    "            transforms.ToTensor(),\n",
    "            transforms.Normalize(mean=[MEAN], std=[STD])\n",
    "        ])\n",
    "\n",
    "        ## Load DataSet\n",
    "        train_data = datasets.MNIST(root=ROOT,\n",
    "                                    train=True,\n",
    "                                    download=True,\n",
    "                                    transform=train_transforms)\n",
    "\n",
    "        test_data = datasets.MNIST(root=ROOT,\n",
    "                                train=False,\n",
    "                                download=True,\n",
    "                                transform=test_transforms)\n",
    "\n",
    "        ## Split Train Validation\n",
    "\n",
    "\n",
    "        n_train = int(len(train_data) * (1-VAL_RATIO))\n",
    "        n_val = len(train_data) - n_train\n",
    "\n",
    "        train_data, val_data = data.random_split(train_data, [n_train, n_val])\n",
    "\n",
    "        val_data = copy.deepcopy(val_data)\n",
    "        val_data.dataset.transform = test_transforms\n",
    "\n",
    "\n",
    "        # Data Loaders\n",
    "\n",
    "        train_iterator = data.DataLoader(train_data,\n",
    "                                        shuffle=True,\n",
    "                                        batch_size=BATCH_SIZE)\n",
    "\n",
    "        valid_iterator = data.DataLoader(val_data,\n",
    "                                        batch_size=BATCH_SIZE)\n",
    "\n",
    "        test_iterator = data.DataLoader(test_data,\n",
    "                                        batch_size=BATCH_SIZE)\n",
    "\n",
    "        print(f\"Train Data: {len(train_data)}\")\n",
    "        print(f\"Validation Data: {len(val_data)}\")\n",
    "        print(f\"Test Data: {len(test_data)}\")\n",
    "        \n",
    "        return train_iterator, valid_iterator, test_iterator"
   ]
  },
  {
   "cell_type": "code",
   "execution_count": 67,
   "metadata": {},
   "outputs": [
    {
     "name": "stdout",
     "output_type": "stream",
     "text": [
      "Overwriting model.py\n"
     ]
    }
   ],
   "source": [
    "%%writefile model.py\n",
    "\n",
    "import torch\n",
    "import torch.nn as nn\n",
    "import torch.nn.functional as F\n",
    "\n",
    "class MLP(nn.Module):\n",
    "    def __init__(self, input_dim, output_dim):\n",
    "        super().__init__()\n",
    "\n",
    "        self.input_fc = nn.Linear(input_dim, 250)\n",
    "        self.hidden_fc = nn.Linear(250, 100)\n",
    "        self.output_fc = nn.Linear(100,output_dim)\n",
    "\n",
    "    def forward(self, x):\n",
    "        x = x.view(x.shape[0], -1)\n",
    "        h_1 = F.relu(self.input_fc(x))\n",
    "        h_2 = F.relu(self.hidden_fc(h_1))\n",
    "        y_pred = self.output_fc(h_2)\n",
    "\n",
    "        return y_pred, h_2"
   ]
  },
  {
   "cell_type": "code",
   "execution_count": 68,
   "metadata": {},
   "outputs": [
    {
     "name": "stdout",
     "output_type": "stream",
     "text": [
      "Overwriting trainer.py\n"
     ]
    }
   ],
   "source": [
    "%%writefile trainer.py\n",
    "\n",
    "import torch\n",
    "import time\n",
    "\n",
    "from data_loader import DataLoad\n",
    "\n",
    "class Train:\n",
    "    def __init__(self, model, optimizer, criterion, EPOCHS, config , train=True):\n",
    "        self.model = model\n",
    "        self.optimizer = optimizer\n",
    "        self.criterion = criterion\n",
    "        self.device = torch.backends.mps.is_available() if 'mps' else 'cpu'\n",
    "        self.epoch = EPOCHS\n",
    "        data_load = DataLoad(config['ROOT'], config['SEED'], config['BATCH_SIZE'], config['VAL_RATIO'])\n",
    "        self.train_iterator, self.valid_iterator, self.test_iterator = data_load\n",
    "        if train:\n",
    "            best_valid_loss = float('inf')\n",
    "\n",
    "            for epoch in range(self.epoch):\n",
    "                start_time = time.monotonic()\n",
    "                \n",
    "                train_loss, train_acc = self.train(model, self.train_iterator, optimizer, criterion, self.device)\n",
    "                valid_loss, valid_acc = self.evaluate(model, self.valid_iterator, criterion, self.device)\n",
    "\n",
    "                if valid_loss < best_valid_loss:\n",
    "                    best_valid_loss = valid_loss\n",
    "                    torch.save(model.state_dict(), 'mlp-model.pt')\n",
    "                \n",
    "                end_time = time.monotonic()\n",
    "\n",
    "                epoch_mins, epoch_secs = self.epoch_time(start_time, end_time)\n",
    "\n",
    "                print(f'Epoch: {epoch+1:02} | Epoch Time: {epoch_mins}m {epoch_secs}s')\n",
    "                print(f'\\tTrain Loss: {train_loss:.3f} | Train Acc: {train_acc*100:.2f}%')\n",
    "                print(f'\\t Val. Loss: {valid_loss:.3f} |  Val. Acc: {valid_acc*100:.2f}%')\n",
    "        else:\n",
    "            self.evaluate(self.model, self.iterator, self.criterion)\n",
    "\n",
    "    def calculate_accuracy(self, y_pred, y):\n",
    "        top_pred = y_pred.argmax(1, keepdim=True)\n",
    "        correct = top_pred.eq(y.view_as(top_pred)).sum()\n",
    "        acc = correct.float() / y.shape[0]\n",
    "        return acc\n",
    "\n",
    "    def train(self, model, iterator, optimizer, criterion):\n",
    "        epoch_loss = 0\n",
    "        epoch_acc = 0\n",
    "\n",
    "        model.train()\n",
    "\n",
    "        for (x, y) in tqdm(iterator, desc='Training', leave=False):\n",
    "            x = x.to(self.device)\n",
    "            y = y.to(self.device)\n",
    "\n",
    "            optimizer.zero_grad()\n",
    "\n",
    "            y_pred, _ = model(x)\n",
    "\n",
    "            loss = criterion(y_pred, y)\n",
    "            \n",
    "            acc = calculate_accuracy(y_pred, y)\n",
    "\n",
    "            loss.backward()\n",
    "\n",
    "            optimizer.step()\n",
    "\n",
    "            epoch_loss += loss.item()\n",
    "            epoch_acc += acc.item()\n",
    "\n",
    "        return epoch_loss / len(iterator), epoch_acc / len(iterator)\n",
    "    \n",
    "    def evaluate(self, model, iterator, criterion):\n",
    "        epoch_loss = 0\n",
    "        epoch_acc = 0\n",
    "\n",
    "        model.eval()\n",
    "\n",
    "        with torch.no_grad():\n",
    "            for (x,y) in tqdm(iterator, desc = 'Evaluating', leave=False):\n",
    "                x = x.to(self.device)\n",
    "                y = y.to(self.device)\n",
    "\n",
    "                y_pred, _ = model(x)\n",
    "\n",
    "                loss = criterion(y_pred, y)\n",
    "\n",
    "                acc = calculate_accuracy(y_pred, y)\n",
    "\n",
    "                epoch_loss += loss.item()\n",
    "                epoch_acc += acc.item()\n",
    "\n",
    "        return epoch_loss / len(iterator), epoch_acc / len(iterator)\n",
    "\n",
    "    def epoch_time(self, start_time, end_time):\n",
    "        elapsed_time = end_time - start_time\n",
    "        elapsed_mins = int(elapsed_time / 60)\n",
    "        elapsed_secs = int(elapsed_time - (elapsed_mins * 60))\n",
    "        return elapsed_mins, elapsed_secs\n",
    "\n",
    "    "
   ]
  },
  {
   "cell_type": "code",
   "execution_count": 69,
   "metadata": {},
   "outputs": [
    {
     "name": "stdout",
     "output_type": "stream",
     "text": [
      "Overwriting main.py\n"
     ]
    }
   ],
   "source": [
    "%%writefile main.py\n",
    "\n",
    "import torch\n",
    "import torch.nn as nn\n",
    "from data_loader import DataLoad\n",
    "from model import MLP\n",
    "from trainer import Train\n",
    "\n",
    "import yaml\n",
    "\n",
    "with open('config.yml') as f:\n",
    "    config = yaml.safe_load(f)\n",
    "\n",
    "model = MLP(config['INPUT_DIM'], config['OUTPUT_DIM'])\n",
    "optimizer = torch.optim.Adam(model.parameters())\n",
    "criterion = nn.CrossEntropyLoss()\n",
    "\n",
    "train = Train(model=model, optimizer=optimizer, criterion=criterion, train=True, EPOCHS=config['EPOCHS'], config = config)"
   ]
  },
  {
   "cell_type": "code",
   "execution_count": 70,
   "metadata": {},
   "outputs": [
    {
     "name": "stdout",
     "output_type": "stream",
     "text": [
      "Train Data: 54000\n",
      "Validation Data: 6000\n",
      "Test Data: 10000\n",
      "Traceback (most recent call last):\n",
      "  File \"/Users/minsu/Desktop/archive/DeepLearning/01_ImageClassification/1_MLP/main.py\", line 17, in <module>\n",
      "    train = Train(model=model, optimizer=optimizer, criterion=criterion, train=True, EPOCHS=config['EPOCHS'], config = config)\n",
      "  File \"/Users/minsu/Desktop/archive/DeepLearning/01_ImageClassification/1_MLP/trainer.py\", line 15, in __init__\n",
      "    self.train_iterator, self.valid_iterator, self.test_iterator = data_load\n",
      "TypeError: cannot unpack non-iterable DataLoad object\n"
     ]
    }
   ],
   "source": [
    "!python main.py"
   ]
  },
  {
   "cell_type": "code",
   "execution_count": null,
   "metadata": {},
   "outputs": [],
   "source": [
    "## This is Test"
   ]
  },
  {
   "cell_type": "code",
   "execution_count": null,
   "metadata": {},
   "outputs": [],
   "source": []
  }
 ],
 "metadata": {
  "kernelspec": {
   "display_name": "mlp_cls",
   "language": "python",
   "name": "python3"
  },
  "language_info": {
   "codemirror_mode": {
    "name": "ipython",
    "version": 3
   },
   "file_extension": ".py",
   "mimetype": "text/x-python",
   "name": "python",
   "nbconvert_exporter": "python",
   "pygments_lexer": "ipython3",
   "version": "3.10.12"
  }
 },
 "nbformat": 4,
 "nbformat_minor": 2
}
